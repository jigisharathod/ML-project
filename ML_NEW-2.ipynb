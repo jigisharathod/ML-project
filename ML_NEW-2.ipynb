{
 "cells": [
  {
   "cell_type": "code",
   "execution_count": 4,
   "metadata": {},
   "outputs": [],
   "source": [
    "import numpy as np\n",
    "import pandas as pd\n",
    "\n",
    "import os\n",
    "import pickle\n",
    "\n",
    "\n",
    "\n",
    "\n",
    "import matplotlib.pyplot as plt\n",
    "%matplotlib inline\n",
    "import seaborn as sns\n",
    "import warnings\n",
    "from matplotlib import pyplot as plt\n",
    "from mlxtend.feature_selection import SequentialFeatureSelector as sfs\n",
    "from mlxtend.plotting import plot_sequential_feature_selection as plot_sfs\n",
    "from sklearn.ensemble import RandomForestClassifier\n",
    "from sklearn.linear_model import LogisticRegression\n",
    "from sklearn.metrics import classification_report, confusion_matrix\n",
    "from sklearn.metrics import roc_auc_score\n",
    "from sklearn.model_selection import GridSearchCV, train_test_split\n",
    "from sklearn.pipeline import Pipeline, make_pipeline\n",
    "from sklearn.preprocessing import StandardScaler\n",
    "from sklearn.tree import DecisionTreeClassifier\n",
    "from yellowbrick.classifier import DiscriminationThreshold, roc_auc\n",
    "\n",
    "np.random.seed(0)\n",
    "\n",
    "\n",
    "%matplotlib inline"
   ]
  },
  {
   "cell_type": "code",
   "execution_count": 5,
   "metadata": {},
   "outputs": [
    {
     "data": {
      "text/html": [
       "<div>\n",
       "<style scoped>\n",
       "    .dataframe tbody tr th:only-of-type {\n",
       "        vertical-align: middle;\n",
       "    }\n",
       "\n",
       "    .dataframe tbody tr th {\n",
       "        vertical-align: top;\n",
       "    }\n",
       "\n",
       "    .dataframe thead th {\n",
       "        text-align: right;\n",
       "    }\n",
       "</style>\n",
       "<table border=\"1\" class=\"dataframe\">\n",
       "  <thead>\n",
       "    <tr style=\"text-align: right;\">\n",
       "      <th></th>\n",
       "      <th>timedelta</th>\n",
       "      <th>n_tokens_title</th>\n",
       "      <th>n_tokens_content</th>\n",
       "      <th>n_unique_tokens</th>\n",
       "      <th>n_non_stop_words</th>\n",
       "      <th>n_non_stop_unique_tokens</th>\n",
       "      <th>num_hrefs</th>\n",
       "      <th>num_self_hrefs</th>\n",
       "      <th>num_imgs</th>\n",
       "      <th>num_videos</th>\n",
       "      <th>...</th>\n",
       "      <th>min_positive_polarity</th>\n",
       "      <th>max_positive_polarity</th>\n",
       "      <th>avg_negative_polarity</th>\n",
       "      <th>min_negative_polarity</th>\n",
       "      <th>max_negative_polarity</th>\n",
       "      <th>title_subjectivity</th>\n",
       "      <th>title_sentiment_polarity</th>\n",
       "      <th>abs_title_subjectivity</th>\n",
       "      <th>abs_title_sentiment_polarity</th>\n",
       "      <th>shares</th>\n",
       "    </tr>\n",
       "    <tr>\n",
       "      <th>url</th>\n",
       "      <th></th>\n",
       "      <th></th>\n",
       "      <th></th>\n",
       "      <th></th>\n",
       "      <th></th>\n",
       "      <th></th>\n",
       "      <th></th>\n",
       "      <th></th>\n",
       "      <th></th>\n",
       "      <th></th>\n",
       "      <th></th>\n",
       "      <th></th>\n",
       "      <th></th>\n",
       "      <th></th>\n",
       "      <th></th>\n",
       "      <th></th>\n",
       "      <th></th>\n",
       "      <th></th>\n",
       "      <th></th>\n",
       "      <th></th>\n",
       "      <th></th>\n",
       "    </tr>\n",
       "  </thead>\n",
       "  <tbody>\n",
       "    <tr>\n",
       "      <td>http://mashable.com/2013/01/07/amazon-instant-video-browser/</td>\n",
       "      <td>731.0</td>\n",
       "      <td>12.0</td>\n",
       "      <td>219.0</td>\n",
       "      <td>0.663594</td>\n",
       "      <td>1.0</td>\n",
       "      <td>0.815385</td>\n",
       "      <td>4.0</td>\n",
       "      <td>2.0</td>\n",
       "      <td>1.0</td>\n",
       "      <td>0.0</td>\n",
       "      <td>...</td>\n",
       "      <td>0.100000</td>\n",
       "      <td>0.7</td>\n",
       "      <td>-0.350000</td>\n",
       "      <td>-0.600</td>\n",
       "      <td>-0.200000</td>\n",
       "      <td>0.500000</td>\n",
       "      <td>-0.187500</td>\n",
       "      <td>0.000000</td>\n",
       "      <td>0.187500</td>\n",
       "      <td>593</td>\n",
       "    </tr>\n",
       "    <tr>\n",
       "      <td>http://mashable.com/2013/01/07/ap-samsung-sponsored-tweets/</td>\n",
       "      <td>731.0</td>\n",
       "      <td>9.0</td>\n",
       "      <td>255.0</td>\n",
       "      <td>0.604743</td>\n",
       "      <td>1.0</td>\n",
       "      <td>0.791946</td>\n",
       "      <td>3.0</td>\n",
       "      <td>1.0</td>\n",
       "      <td>1.0</td>\n",
       "      <td>0.0</td>\n",
       "      <td>...</td>\n",
       "      <td>0.033333</td>\n",
       "      <td>0.7</td>\n",
       "      <td>-0.118750</td>\n",
       "      <td>-0.125</td>\n",
       "      <td>-0.100000</td>\n",
       "      <td>0.000000</td>\n",
       "      <td>0.000000</td>\n",
       "      <td>0.500000</td>\n",
       "      <td>0.000000</td>\n",
       "      <td>711</td>\n",
       "    </tr>\n",
       "    <tr>\n",
       "      <td>http://mashable.com/2013/01/07/apple-40-billion-app-downloads/</td>\n",
       "      <td>731.0</td>\n",
       "      <td>9.0</td>\n",
       "      <td>211.0</td>\n",
       "      <td>0.575130</td>\n",
       "      <td>1.0</td>\n",
       "      <td>0.663866</td>\n",
       "      <td>3.0</td>\n",
       "      <td>1.0</td>\n",
       "      <td>1.0</td>\n",
       "      <td>0.0</td>\n",
       "      <td>...</td>\n",
       "      <td>0.100000</td>\n",
       "      <td>1.0</td>\n",
       "      <td>-0.466667</td>\n",
       "      <td>-0.800</td>\n",
       "      <td>-0.133333</td>\n",
       "      <td>0.000000</td>\n",
       "      <td>0.000000</td>\n",
       "      <td>0.500000</td>\n",
       "      <td>0.000000</td>\n",
       "      <td>1500</td>\n",
       "    </tr>\n",
       "    <tr>\n",
       "      <td>http://mashable.com/2013/01/07/astronaut-notre-dame-bcs/</td>\n",
       "      <td>731.0</td>\n",
       "      <td>9.0</td>\n",
       "      <td>531.0</td>\n",
       "      <td>0.503788</td>\n",
       "      <td>1.0</td>\n",
       "      <td>0.665635</td>\n",
       "      <td>9.0</td>\n",
       "      <td>0.0</td>\n",
       "      <td>1.0</td>\n",
       "      <td>0.0</td>\n",
       "      <td>...</td>\n",
       "      <td>0.136364</td>\n",
       "      <td>0.8</td>\n",
       "      <td>-0.369697</td>\n",
       "      <td>-0.600</td>\n",
       "      <td>-0.166667</td>\n",
       "      <td>0.000000</td>\n",
       "      <td>0.000000</td>\n",
       "      <td>0.500000</td>\n",
       "      <td>0.000000</td>\n",
       "      <td>1200</td>\n",
       "    </tr>\n",
       "    <tr>\n",
       "      <td>http://mashable.com/2013/01/07/att-u-verse-apps/</td>\n",
       "      <td>731.0</td>\n",
       "      <td>13.0</td>\n",
       "      <td>1072.0</td>\n",
       "      <td>0.415646</td>\n",
       "      <td>1.0</td>\n",
       "      <td>0.540890</td>\n",
       "      <td>19.0</td>\n",
       "      <td>19.0</td>\n",
       "      <td>20.0</td>\n",
       "      <td>0.0</td>\n",
       "      <td>...</td>\n",
       "      <td>0.033333</td>\n",
       "      <td>1.0</td>\n",
       "      <td>-0.220192</td>\n",
       "      <td>-0.500</td>\n",
       "      <td>-0.050000</td>\n",
       "      <td>0.454545</td>\n",
       "      <td>0.136364</td>\n",
       "      <td>0.045455</td>\n",
       "      <td>0.136364</td>\n",
       "      <td>505</td>\n",
       "    </tr>\n",
       "  </tbody>\n",
       "</table>\n",
       "<p>5 rows × 60 columns</p>\n",
       "</div>"
      ],
      "text/plain": [
       "                                                     timedelta  \\\n",
       "url                                                              \n",
       "http://mashable.com/2013/01/07/amazon-instant-v...       731.0   \n",
       "http://mashable.com/2013/01/07/ap-samsung-spons...       731.0   \n",
       "http://mashable.com/2013/01/07/apple-40-billion...       731.0   \n",
       "http://mashable.com/2013/01/07/astronaut-notre-...       731.0   \n",
       "http://mashable.com/2013/01/07/att-u-verse-apps/         731.0   \n",
       "\n",
       "                                                     n_tokens_title  \\\n",
       "url                                                                   \n",
       "http://mashable.com/2013/01/07/amazon-instant-v...             12.0   \n",
       "http://mashable.com/2013/01/07/ap-samsung-spons...              9.0   \n",
       "http://mashable.com/2013/01/07/apple-40-billion...              9.0   \n",
       "http://mashable.com/2013/01/07/astronaut-notre-...              9.0   \n",
       "http://mashable.com/2013/01/07/att-u-verse-apps/               13.0   \n",
       "\n",
       "                                                     n_tokens_content  \\\n",
       "url                                                                     \n",
       "http://mashable.com/2013/01/07/amazon-instant-v...              219.0   \n",
       "http://mashable.com/2013/01/07/ap-samsung-spons...              255.0   \n",
       "http://mashable.com/2013/01/07/apple-40-billion...              211.0   \n",
       "http://mashable.com/2013/01/07/astronaut-notre-...              531.0   \n",
       "http://mashable.com/2013/01/07/att-u-verse-apps/               1072.0   \n",
       "\n",
       "                                                     n_unique_tokens  \\\n",
       "url                                                                    \n",
       "http://mashable.com/2013/01/07/amazon-instant-v...          0.663594   \n",
       "http://mashable.com/2013/01/07/ap-samsung-spons...          0.604743   \n",
       "http://mashable.com/2013/01/07/apple-40-billion...          0.575130   \n",
       "http://mashable.com/2013/01/07/astronaut-notre-...          0.503788   \n",
       "http://mashable.com/2013/01/07/att-u-verse-apps/            0.415646   \n",
       "\n",
       "                                                     n_non_stop_words  \\\n",
       "url                                                                     \n",
       "http://mashable.com/2013/01/07/amazon-instant-v...                1.0   \n",
       "http://mashable.com/2013/01/07/ap-samsung-spons...                1.0   \n",
       "http://mashable.com/2013/01/07/apple-40-billion...                1.0   \n",
       "http://mashable.com/2013/01/07/astronaut-notre-...                1.0   \n",
       "http://mashable.com/2013/01/07/att-u-verse-apps/                  1.0   \n",
       "\n",
       "                                                     n_non_stop_unique_tokens  \\\n",
       "url                                                                             \n",
       "http://mashable.com/2013/01/07/amazon-instant-v...                   0.815385   \n",
       "http://mashable.com/2013/01/07/ap-samsung-spons...                   0.791946   \n",
       "http://mashable.com/2013/01/07/apple-40-billion...                   0.663866   \n",
       "http://mashable.com/2013/01/07/astronaut-notre-...                   0.665635   \n",
       "http://mashable.com/2013/01/07/att-u-verse-apps/                     0.540890   \n",
       "\n",
       "                                                     num_hrefs  \\\n",
       "url                                                              \n",
       "http://mashable.com/2013/01/07/amazon-instant-v...         4.0   \n",
       "http://mashable.com/2013/01/07/ap-samsung-spons...         3.0   \n",
       "http://mashable.com/2013/01/07/apple-40-billion...         3.0   \n",
       "http://mashable.com/2013/01/07/astronaut-notre-...         9.0   \n",
       "http://mashable.com/2013/01/07/att-u-verse-apps/          19.0   \n",
       "\n",
       "                                                     num_self_hrefs  \\\n",
       "url                                                                   \n",
       "http://mashable.com/2013/01/07/amazon-instant-v...              2.0   \n",
       "http://mashable.com/2013/01/07/ap-samsung-spons...              1.0   \n",
       "http://mashable.com/2013/01/07/apple-40-billion...              1.0   \n",
       "http://mashable.com/2013/01/07/astronaut-notre-...              0.0   \n",
       "http://mashable.com/2013/01/07/att-u-verse-apps/               19.0   \n",
       "\n",
       "                                                     num_imgs   num_videos  \\\n",
       "url                                                                          \n",
       "http://mashable.com/2013/01/07/amazon-instant-v...        1.0          0.0   \n",
       "http://mashable.com/2013/01/07/ap-samsung-spons...        1.0          0.0   \n",
       "http://mashable.com/2013/01/07/apple-40-billion...        1.0          0.0   \n",
       "http://mashable.com/2013/01/07/astronaut-notre-...        1.0          0.0   \n",
       "http://mashable.com/2013/01/07/att-u-verse-apps/         20.0          0.0   \n",
       "\n",
       "                                                    ...  \\\n",
       "url                                                 ...   \n",
       "http://mashable.com/2013/01/07/amazon-instant-v...  ...   \n",
       "http://mashable.com/2013/01/07/ap-samsung-spons...  ...   \n",
       "http://mashable.com/2013/01/07/apple-40-billion...  ...   \n",
       "http://mashable.com/2013/01/07/astronaut-notre-...  ...   \n",
       "http://mashable.com/2013/01/07/att-u-verse-apps/    ...   \n",
       "\n",
       "                                                     min_positive_polarity  \\\n",
       "url                                                                          \n",
       "http://mashable.com/2013/01/07/amazon-instant-v...                0.100000   \n",
       "http://mashable.com/2013/01/07/ap-samsung-spons...                0.033333   \n",
       "http://mashable.com/2013/01/07/apple-40-billion...                0.100000   \n",
       "http://mashable.com/2013/01/07/astronaut-notre-...                0.136364   \n",
       "http://mashable.com/2013/01/07/att-u-verse-apps/                  0.033333   \n",
       "\n",
       "                                                     max_positive_polarity  \\\n",
       "url                                                                          \n",
       "http://mashable.com/2013/01/07/amazon-instant-v...                     0.7   \n",
       "http://mashable.com/2013/01/07/ap-samsung-spons...                     0.7   \n",
       "http://mashable.com/2013/01/07/apple-40-billion...                     1.0   \n",
       "http://mashable.com/2013/01/07/astronaut-notre-...                     0.8   \n",
       "http://mashable.com/2013/01/07/att-u-verse-apps/                       1.0   \n",
       "\n",
       "                                                     avg_negative_polarity  \\\n",
       "url                                                                          \n",
       "http://mashable.com/2013/01/07/amazon-instant-v...               -0.350000   \n",
       "http://mashable.com/2013/01/07/ap-samsung-spons...               -0.118750   \n",
       "http://mashable.com/2013/01/07/apple-40-billion...               -0.466667   \n",
       "http://mashable.com/2013/01/07/astronaut-notre-...               -0.369697   \n",
       "http://mashable.com/2013/01/07/att-u-verse-apps/                 -0.220192   \n",
       "\n",
       "                                                     min_negative_polarity  \\\n",
       "url                                                                          \n",
       "http://mashable.com/2013/01/07/amazon-instant-v...                  -0.600   \n",
       "http://mashable.com/2013/01/07/ap-samsung-spons...                  -0.125   \n",
       "http://mashable.com/2013/01/07/apple-40-billion...                  -0.800   \n",
       "http://mashable.com/2013/01/07/astronaut-notre-...                  -0.600   \n",
       "http://mashable.com/2013/01/07/att-u-verse-apps/                    -0.500   \n",
       "\n",
       "                                                     max_negative_polarity  \\\n",
       "url                                                                          \n",
       "http://mashable.com/2013/01/07/amazon-instant-v...               -0.200000   \n",
       "http://mashable.com/2013/01/07/ap-samsung-spons...               -0.100000   \n",
       "http://mashable.com/2013/01/07/apple-40-billion...               -0.133333   \n",
       "http://mashable.com/2013/01/07/astronaut-notre-...               -0.166667   \n",
       "http://mashable.com/2013/01/07/att-u-verse-apps/                 -0.050000   \n",
       "\n",
       "                                                     title_subjectivity  \\\n",
       "url                                                                       \n",
       "http://mashable.com/2013/01/07/amazon-instant-v...             0.500000   \n",
       "http://mashable.com/2013/01/07/ap-samsung-spons...             0.000000   \n",
       "http://mashable.com/2013/01/07/apple-40-billion...             0.000000   \n",
       "http://mashable.com/2013/01/07/astronaut-notre-...             0.000000   \n",
       "http://mashable.com/2013/01/07/att-u-verse-apps/               0.454545   \n",
       "\n",
       "                                                     title_sentiment_polarity  \\\n",
       "url                                                                             \n",
       "http://mashable.com/2013/01/07/amazon-instant-v...                  -0.187500   \n",
       "http://mashable.com/2013/01/07/ap-samsung-spons...                   0.000000   \n",
       "http://mashable.com/2013/01/07/apple-40-billion...                   0.000000   \n",
       "http://mashable.com/2013/01/07/astronaut-notre-...                   0.000000   \n",
       "http://mashable.com/2013/01/07/att-u-verse-apps/                     0.136364   \n",
       "\n",
       "                                                     abs_title_subjectivity  \\\n",
       "url                                                                           \n",
       "http://mashable.com/2013/01/07/amazon-instant-v...                 0.000000   \n",
       "http://mashable.com/2013/01/07/ap-samsung-spons...                 0.500000   \n",
       "http://mashable.com/2013/01/07/apple-40-billion...                 0.500000   \n",
       "http://mashable.com/2013/01/07/astronaut-notre-...                 0.500000   \n",
       "http://mashable.com/2013/01/07/att-u-verse-apps/                   0.045455   \n",
       "\n",
       "                                                     abs_title_sentiment_polarity  \\\n",
       "url                                                                                 \n",
       "http://mashable.com/2013/01/07/amazon-instant-v...                       0.187500   \n",
       "http://mashable.com/2013/01/07/ap-samsung-spons...                       0.000000   \n",
       "http://mashable.com/2013/01/07/apple-40-billion...                       0.000000   \n",
       "http://mashable.com/2013/01/07/astronaut-notre-...                       0.000000   \n",
       "http://mashable.com/2013/01/07/att-u-verse-apps/                         0.136364   \n",
       "\n",
       "                                                     shares  \n",
       "url                                                          \n",
       "http://mashable.com/2013/01/07/amazon-instant-v...      593  \n",
       "http://mashable.com/2013/01/07/ap-samsung-spons...      711  \n",
       "http://mashable.com/2013/01/07/apple-40-billion...     1500  \n",
       "http://mashable.com/2013/01/07/astronaut-notre-...     1200  \n",
       "http://mashable.com/2013/01/07/att-u-verse-apps/        505  \n",
       "\n",
       "[5 rows x 60 columns]"
      ]
     },
     "execution_count": 5,
     "metadata": {},
     "output_type": "execute_result"
    }
   ],
   "source": [
    "df = pd.read_csv('/Users/jigisharathod/Desktop/OnlineNewsPopularity.csv', index_col=0)\n",
    "df.head()"
   ]
  },
  {
   "cell_type": "code",
   "execution_count": 6,
   "metadata": {},
   "outputs": [
    {
     "ename": "TypeError",
     "evalue": "Cannot interpret '<attribute 'dtype' of 'numpy.generic' objects>' as a data type",
     "output_type": "error",
     "traceback": [
      "\u001b[0;31m---------------------------------------------------------------------------\u001b[0m",
      "\u001b[0;31mTypeError\u001b[0m                                 Traceback (most recent call last)",
      "\u001b[0;32m<ipython-input-6-25a8efe6b130>\u001b[0m in \u001b[0;36m<module>\u001b[0;34m\u001b[0m\n\u001b[1;32m      1\u001b[0m \u001b[0;31m#checking missing data and viewing statistics\u001b[0m\u001b[0;34m\u001b[0m\u001b[0;34m\u001b[0m\u001b[0;34m\u001b[0m\u001b[0m\n\u001b[0;32m----> 2\u001b[0;31m \u001b[0mdisplay\u001b[0m\u001b[0;34m(\u001b[0m\u001b[0mdf\u001b[0m\u001b[0;34m.\u001b[0m\u001b[0minfo\u001b[0m\u001b[0;34m(\u001b[0m\u001b[0;34m)\u001b[0m\u001b[0;34m)\u001b[0m\u001b[0;34m\u001b[0m\u001b[0;34m\u001b[0m\u001b[0m\n\u001b[0m\u001b[1;32m      3\u001b[0m \u001b[0mdisplay\u001b[0m\u001b[0;34m(\u001b[0m\u001b[0mdf\u001b[0m\u001b[0;34m.\u001b[0m\u001b[0mdescribe\u001b[0m\u001b[0;34m(\u001b[0m\u001b[0;34m)\u001b[0m\u001b[0;34m.\u001b[0m\u001b[0mround\u001b[0m\u001b[0;34m(\u001b[0m\u001b[0;36m3\u001b[0m\u001b[0;34m)\u001b[0m\u001b[0;34m)\u001b[0m\u001b[0;34m\u001b[0m\u001b[0;34m\u001b[0m\u001b[0m\n",
      "\u001b[0;32m~/opt/anaconda3/lib/python3.7/site-packages/pandas/core/frame.py\u001b[0m in \u001b[0;36minfo\u001b[0;34m(self, verbose, buf, max_cols, memory_usage, null_counts)\u001b[0m\n\u001b[1;32m   2555\u001b[0m                 \u001b[0;32mif\u001b[0m \u001b[0;34m\"object\"\u001b[0m \u001b[0;32min\u001b[0m \u001b[0mcounts\u001b[0m \u001b[0;32mor\u001b[0m \u001b[0mself\u001b[0m\u001b[0;34m.\u001b[0m\u001b[0mindex\u001b[0m\u001b[0;34m.\u001b[0m\u001b[0m_is_memory_usage_qualified\u001b[0m\u001b[0;34m(\u001b[0m\u001b[0;34m)\u001b[0m\u001b[0;34m:\u001b[0m\u001b[0;34m\u001b[0m\u001b[0;34m\u001b[0m\u001b[0m\n\u001b[1;32m   2556\u001b[0m                     \u001b[0msize_qualifier\u001b[0m \u001b[0;34m=\u001b[0m \u001b[0;34m\"+\"\u001b[0m\u001b[0;34m\u001b[0m\u001b[0;34m\u001b[0m\u001b[0m\n\u001b[0;32m-> 2557\u001b[0;31m             \u001b[0mmem_usage\u001b[0m \u001b[0;34m=\u001b[0m \u001b[0mself\u001b[0m\u001b[0;34m.\u001b[0m\u001b[0mmemory_usage\u001b[0m\u001b[0;34m(\u001b[0m\u001b[0mindex\u001b[0m\u001b[0;34m=\u001b[0m\u001b[0;32mTrue\u001b[0m\u001b[0;34m,\u001b[0m \u001b[0mdeep\u001b[0m\u001b[0;34m=\u001b[0m\u001b[0mdeep\u001b[0m\u001b[0;34m)\u001b[0m\u001b[0;34m.\u001b[0m\u001b[0msum\u001b[0m\u001b[0;34m(\u001b[0m\u001b[0;34m)\u001b[0m\u001b[0;34m\u001b[0m\u001b[0;34m\u001b[0m\u001b[0m\n\u001b[0m\u001b[1;32m   2558\u001b[0m             lines.append(\n\u001b[1;32m   2559\u001b[0m                 \"memory usage: {mem}\\n\".format(\n",
      "\u001b[0;32m~/opt/anaconda3/lib/python3.7/site-packages/pandas/core/frame.py\u001b[0m in \u001b[0;36mmemory_usage\u001b[0;34m(self, index, deep)\u001b[0m\n\u001b[1;32m   2653\u001b[0m         )\n\u001b[1;32m   2654\u001b[0m         \u001b[0;32mif\u001b[0m \u001b[0mindex\u001b[0m\u001b[0;34m:\u001b[0m\u001b[0;34m\u001b[0m\u001b[0;34m\u001b[0m\u001b[0m\n\u001b[0;32m-> 2655\u001b[0;31m             result = Series(self.index.memory_usage(deep=deep), index=[\"Index\"]).append(\n\u001b[0m\u001b[1;32m   2656\u001b[0m                 \u001b[0mresult\u001b[0m\u001b[0;34m\u001b[0m\u001b[0;34m\u001b[0m\u001b[0m\n\u001b[1;32m   2657\u001b[0m             )\n",
      "\u001b[0;32m~/opt/anaconda3/lib/python3.7/site-packages/pandas/core/series.py\u001b[0m in \u001b[0;36m__init__\u001b[0;34m(self, data, index, dtype, name, copy, fastpath)\u001b[0m\n\u001b[1;32m    309\u001b[0m                     \u001b[0mdata\u001b[0m \u001b[0;34m=\u001b[0m \u001b[0mdata\u001b[0m\u001b[0;34m.\u001b[0m\u001b[0mcopy\u001b[0m\u001b[0;34m(\u001b[0m\u001b[0;34m)\u001b[0m\u001b[0;34m\u001b[0m\u001b[0;34m\u001b[0m\u001b[0m\n\u001b[1;32m    310\u001b[0m             \u001b[0;32melse\u001b[0m\u001b[0;34m:\u001b[0m\u001b[0;34m\u001b[0m\u001b[0;34m\u001b[0m\u001b[0m\n\u001b[0;32m--> 311\u001b[0;31m                 \u001b[0mdata\u001b[0m \u001b[0;34m=\u001b[0m \u001b[0msanitize_array\u001b[0m\u001b[0;34m(\u001b[0m\u001b[0mdata\u001b[0m\u001b[0;34m,\u001b[0m \u001b[0mindex\u001b[0m\u001b[0;34m,\u001b[0m \u001b[0mdtype\u001b[0m\u001b[0;34m,\u001b[0m \u001b[0mcopy\u001b[0m\u001b[0;34m,\u001b[0m \u001b[0mraise_cast_failure\u001b[0m\u001b[0;34m=\u001b[0m\u001b[0;32mTrue\u001b[0m\u001b[0;34m)\u001b[0m\u001b[0;34m\u001b[0m\u001b[0;34m\u001b[0m\u001b[0m\n\u001b[0m\u001b[1;32m    312\u001b[0m \u001b[0;34m\u001b[0m\u001b[0m\n\u001b[1;32m    313\u001b[0m                 \u001b[0mdata\u001b[0m \u001b[0;34m=\u001b[0m \u001b[0mSingleBlockManager\u001b[0m\u001b[0;34m(\u001b[0m\u001b[0mdata\u001b[0m\u001b[0;34m,\u001b[0m \u001b[0mindex\u001b[0m\u001b[0;34m,\u001b[0m \u001b[0mfastpath\u001b[0m\u001b[0;34m=\u001b[0m\u001b[0;32mTrue\u001b[0m\u001b[0;34m)\u001b[0m\u001b[0;34m\u001b[0m\u001b[0;34m\u001b[0m\u001b[0m\n",
      "\u001b[0;32m~/opt/anaconda3/lib/python3.7/site-packages/pandas/core/internals/construction.py\u001b[0m in \u001b[0;36msanitize_array\u001b[0;34m(data, index, dtype, copy, raise_cast_failure)\u001b[0m\n\u001b[1;32m    710\u001b[0m                 \u001b[0mvalue\u001b[0m \u001b[0;34m=\u001b[0m \u001b[0mmaybe_cast_to_datetime\u001b[0m\u001b[0;34m(\u001b[0m\u001b[0mvalue\u001b[0m\u001b[0;34m,\u001b[0m \u001b[0mdtype\u001b[0m\u001b[0;34m)\u001b[0m\u001b[0;34m\u001b[0m\u001b[0;34m\u001b[0m\u001b[0m\n\u001b[1;32m    711\u001b[0m \u001b[0;34m\u001b[0m\u001b[0m\n\u001b[0;32m--> 712\u001b[0;31m             \u001b[0msubarr\u001b[0m \u001b[0;34m=\u001b[0m \u001b[0mconstruct_1d_arraylike_from_scalar\u001b[0m\u001b[0;34m(\u001b[0m\u001b[0mvalue\u001b[0m\u001b[0;34m,\u001b[0m \u001b[0mlen\u001b[0m\u001b[0;34m(\u001b[0m\u001b[0mindex\u001b[0m\u001b[0;34m)\u001b[0m\u001b[0;34m,\u001b[0m \u001b[0mdtype\u001b[0m\u001b[0;34m)\u001b[0m\u001b[0;34m\u001b[0m\u001b[0;34m\u001b[0m\u001b[0m\n\u001b[0m\u001b[1;32m    713\u001b[0m \u001b[0;34m\u001b[0m\u001b[0m\n\u001b[1;32m    714\u001b[0m         \u001b[0;32melse\u001b[0m\u001b[0;34m:\u001b[0m\u001b[0;34m\u001b[0m\u001b[0;34m\u001b[0m\u001b[0m\n",
      "\u001b[0;32m~/opt/anaconda3/lib/python3.7/site-packages/pandas/core/dtypes/cast.py\u001b[0m in \u001b[0;36mconstruct_1d_arraylike_from_scalar\u001b[0;34m(value, length, dtype)\u001b[0m\n\u001b[1;32m   1231\u001b[0m                 \u001b[0mvalue\u001b[0m \u001b[0;34m=\u001b[0m \u001b[0mensure_str\u001b[0m\u001b[0;34m(\u001b[0m\u001b[0mvalue\u001b[0m\u001b[0;34m)\u001b[0m\u001b[0;34m\u001b[0m\u001b[0;34m\u001b[0m\u001b[0m\n\u001b[1;32m   1232\u001b[0m \u001b[0;34m\u001b[0m\u001b[0m\n\u001b[0;32m-> 1233\u001b[0;31m         \u001b[0msubarr\u001b[0m \u001b[0;34m=\u001b[0m \u001b[0mnp\u001b[0m\u001b[0;34m.\u001b[0m\u001b[0mempty\u001b[0m\u001b[0;34m(\u001b[0m\u001b[0mlength\u001b[0m\u001b[0;34m,\u001b[0m \u001b[0mdtype\u001b[0m\u001b[0;34m=\u001b[0m\u001b[0mdtype\u001b[0m\u001b[0;34m)\u001b[0m\u001b[0;34m\u001b[0m\u001b[0;34m\u001b[0m\u001b[0m\n\u001b[0m\u001b[1;32m   1234\u001b[0m         \u001b[0msubarr\u001b[0m\u001b[0;34m.\u001b[0m\u001b[0mfill\u001b[0m\u001b[0;34m(\u001b[0m\u001b[0mvalue\u001b[0m\u001b[0;34m)\u001b[0m\u001b[0;34m\u001b[0m\u001b[0;34m\u001b[0m\u001b[0m\n\u001b[1;32m   1235\u001b[0m \u001b[0;34m\u001b[0m\u001b[0m\n",
      "\u001b[0;31mTypeError\u001b[0m: Cannot interpret '<attribute 'dtype' of 'numpy.generic' objects>' as a data type"
     ]
    }
   ],
   "source": [
    "\n",
    "#checking missing data and viewing statistics \n",
    "display(df.info())\n",
    "display(df.describe().round(3))\n"
   ]
  },
  {
   "cell_type": "code",
   "execution_count": 5,
   "metadata": {},
   "outputs": [
    {
     "name": "stdout",
     "output_type": "stream",
     "text": [
      "Number of rows below 1400:  18490\n",
      "Number of rows below 1425:  20082\n",
      "Number of rows below 1450:  20082\n",
      "Number of rows below 1475:  20082\n",
      "Number of rows below 1500:  20082\n",
      "Number of rows below 1525:  21405\n"
     ]
    }
   ],
   "source": [
    "# testing lengths to separate the classes\n",
    "value = 1400\n",
    "t = df[' shares']\n",
    "\n",
    "for i in range(6): # print and increment test value by 25, 6 times\n",
    "    print(f\"Number of rows below {value}: \", \n",
    "          len(df[t < value]))\n",
    "    value += 25"
   ]
  },
  {
   "cell_type": "code",
   "execution_count": 6,
   "metadata": {},
   "outputs": [
    {
     "data": {
      "text/plain": [
       "Index([' timedelta', ' n_tokens_title', ' n_tokens_content',\n",
       "       ' n_unique_tokens', ' n_non_stop_words', ' n_non_stop_unique_tokens',\n",
       "       ' num_hrefs', ' num_self_hrefs', ' num_imgs', ' num_videos',\n",
       "       ' average_token_length', ' num_keywords', ' data_channel_is_lifestyle',\n",
       "       ' data_channel_is_entertainment', ' data_channel_is_bus',\n",
       "       ' data_channel_is_socmed', ' data_channel_is_tech',\n",
       "       ' data_channel_is_world', ' kw_min_min', ' kw_max_min', ' kw_avg_min',\n",
       "       ' kw_min_max', ' kw_max_max', ' kw_avg_max', ' kw_min_avg',\n",
       "       ' kw_max_avg', ' kw_avg_avg', ' self_reference_min_shares',\n",
       "       ' self_reference_max_shares', ' self_reference_avg_sharess',\n",
       "       ' weekday_is_monday', ' weekday_is_tuesday', ' weekday_is_wednesday',\n",
       "       ' weekday_is_thursday', ' weekday_is_friday', ' weekday_is_saturday',\n",
       "       ' weekday_is_sunday', ' is_weekend', ' LDA_00', ' LDA_01', ' LDA_02',\n",
       "       ' LDA_03', ' LDA_04', ' global_subjectivity',\n",
       "       ' global_sentiment_polarity', ' global_rate_positive_words',\n",
       "       ' global_rate_negative_words', ' rate_positive_words',\n",
       "       ' rate_negative_words', ' avg_positive_polarity',\n",
       "       ' min_positive_polarity', ' max_positive_polarity',\n",
       "       ' avg_negative_polarity', ' min_negative_polarity',\n",
       "       ' max_negative_polarity', ' title_subjectivity',\n",
       "       ' title_sentiment_polarity', ' abs_title_subjectivity',\n",
       "       ' abs_title_sentiment_polarity', ' shares'],\n",
       "      dtype='object')"
      ]
     },
     "execution_count": 6,
     "metadata": {},
     "output_type": "execute_result"
    }
   ],
   "source": [
    "# viewing column labels\n",
    "df.columns"
   ]
  },
  {
   "cell_type": "code",
   "execution_count": 7,
   "metadata": {},
   "outputs": [
    {
     "data": {
      "text/plain": [
       "Index(['timedelta', 'n_title', 'n_content', 'n_unique_tokens',\n",
       "       'n_non_stop_words', 'n_non_stop_unique_tokens', 'nhrefs', 'nself_hrefs',\n",
       "       'nimgs', 'nvideos', 'avg_token_length', 'nkeywords',\n",
       "       'channel_lifestyle', 'channel_ent', 'channel_bus', 'channel_socmed',\n",
       "       'channel_tech', 'channel_world', 'kw_min_min', 'kw_max_min',\n",
       "       'kw_avg_min', 'kw_min_max', 'kw_max_max', 'kw_avg_max', 'kw_min_avg',\n",
       "       'kw_max_avg', 'kw_avg_avg', 'self_ref_min_shares',\n",
       "       'self_ref_max_shares', 'self_ref_avg_shares', 'week_mon', 'week_tues',\n",
       "       'week_wednes', 'week_thurs', 'week_fri', 'week_satur', 'week_sun',\n",
       "       'weekend', 'LDA_00', 'LDA_01', 'LDA_02', 'LDA_03', 'LDA_04',\n",
       "       'global_subj', 'global_sentiment_pol', 'global_rate_pos_words',\n",
       "       'global_rate_neg_words', 'rate_pos_words', 'rate_neg_words',\n",
       "       'avg_pos_pol', 'min_pos_pol', 'max_pos_pol', 'avg_neg_pol',\n",
       "       'min_neg_pol', 'max_neg_pol', 'title_subj', 'title_sentiment_pol',\n",
       "       'abs_title_subj', 'abs_title_sentiment_pol', 'shares'],\n",
       "      dtype='object')"
      ]
     },
     "execution_count": 7,
     "metadata": {},
     "output_type": "execute_result"
    }
   ],
   "source": [
    "\n",
    "\n",
    "# make replacements in the listed names\n",
    "df.columns = df.columns.str.replace(\n",
    "    ' ',\n",
    "    ''\n",
    ").str.replace(\n",
    "    'num_', 'n'\n",
    ").str.replace(\n",
    "    'tokens_', ''\n",
    ").str.replace(\n",
    "    'is_', ''\n",
    ").str.replace(\n",
    "    'data_', ''\n",
    ").str.replace(\n",
    "    'day', ''\n",
    ").str.replace(\n",
    "    'week_is', ''\n",
    ").str.replace(\n",
    "    'ectivity', ''\n",
    ").str.replace(\n",
    "    'arity', ''\n",
    ").str.replace(\n",
    "    'entertainment', 'ent'\n",
    ").str.replace(\n",
    "    'reference', 'ref'\n",
    ").str.replace(\n",
    "    'sharess', 'shares'\n",
    ").str.replace(\n",
    "    'average', 'avg'\n",
    ").str.replace(\n",
    "    'positive', 'pos'\n",
    ").str.replace(\n",
    "    'negative', 'neg'\n",
    ")\n",
    "\n",
    "df.columns"
   ]
  },
  {
   "cell_type": "code",
   "execution_count": null,
   "metadata": {},
   "outputs": [
    {
     "data": {
      "text/plain": [
       "<Figure size 1440x720 with 0 Axes>"
      ]
     },
     "metadata": {},
     "output_type": "display_data"
    }
   ],
   "source": [
    "\n",
    "# viewing data histograms\n",
    "plt.figure(figsize=(20, 10))\n",
    "\n",
    "df.hist(bins=30, figsize= (21, 13), facecolor=\"blue\", alpha=0.5)\n",
    "plt.title(r\"Histogram for Online News Shares\",\n",
    "    fontsize=15)\n",
    "\n",
    "plt.show()"
   ]
  },
  {
   "cell_type": "code",
   "execution_count": null,
   "metadata": {},
   "outputs": [],
   "source": [
    "#RemovingOutliers\n",
    "#Finding Median, Q1F, Q3F, Interquartile range\n",
    "\n",
    "sorted_shares = df.sort_values('shares') \n",
    "\n",
    "median = sorted_shares['shares'].median() \n",
    "\n",
    "first_quartile = sorted_shares['shares'].quantile(q=0.25) \n",
    "\n",
    "third_quartile = sorted_shares['shares'].quantile(q=0.75) \n",
    "\n",
    "interquartile_range = third_quartile-first_quartile"
   ]
  },
  {
   "cell_type": "code",
   "execution_count": null,
   "metadata": {},
   "outputs": [],
   "source": [
    "#inner-fences(minor outlier) and outer-fences(major outlier)\n",
    "inner_boundary1 = first_quartile-(interquartile_range*1.5) #-1835.0 \n",
    "\n",
    "inner_boundary2 = third_quartile+(interquartile_range*1.5) #5581.0 \n",
    "\n",
    "outer_boundary1 = first_quartile-(interquartile_range*3)   #-4616.0 \n",
    "\n",
    "outer_boundary2 = third_quartile+(interquartile_range*3)   #8362.0\n",
    "\n",
    "print(inner_boundary1,inner_boundary2,outer_boundary1,outer_boundary2)"
   ]
  },
  {
   "cell_type": "code",
   "execution_count": null,
   "metadata": {},
   "outputs": [],
   "source": [
    "#Removing the outliers \n",
    "\n",
    "df_no_outliers = df[df[\"shares\"]<=8362] \n",
    "\n",
    "mean = df_no_outliers['shares'].mean() #Without outlier treatment, mean was 3395. Removing outliers, we get 1916\n",
    "mean"
   ]
  },
  {
   "cell_type": "code",
   "execution_count": 1,
   "metadata": {},
   "outputs": [
    {
     "ename": "NameError",
     "evalue": "name 'df' is not defined",
     "output_type": "error",
     "traceback": [
      "\u001b[0;31m---------------------------------------------------------------------------\u001b[0m",
      "\u001b[0;31mNameError\u001b[0m                                 Traceback (most recent call last)",
      "\u001b[0;32m<ipython-input-1-6d6b245c1f9c>\u001b[0m in \u001b[0;36m<module>\u001b[0;34m\u001b[0m\n\u001b[0;32m----> 1\u001b[0;31m \u001b[0mDf\u001b[0m \u001b[0;34m=\u001b[0m \u001b[0mdf\u001b[0m\u001b[0;34m[\u001b[0m\u001b[0mdf\u001b[0m\u001b[0;34m[\u001b[0m\u001b[0;34m'shares'\u001b[0m\u001b[0;34m]\u001b[0m\u001b[0;34m<=\u001b[0m\u001b[0mouter_boundary2\u001b[0m\u001b[0;34m]\u001b[0m\u001b[0;34m\u001b[0m\u001b[0;34m\u001b[0m\u001b[0m\n\u001b[0m",
      "\u001b[0;31mNameError\u001b[0m: name 'df' is not defined"
     ]
    }
   ],
   "source": [
    "Df = df[df['shares']<=outer_boundary2]"
   ]
  },
  {
   "cell_type": "code",
   "execution_count": null,
   "metadata": {},
   "outputs": [],
   "source": [
    "print(f'Data before Removing Outliers = {df.shape}')\n",
    "print(f'Data after Removing Outliers = {Df.shape}')\n",
    "print(f'Number of Outliers = {df.shape[0] - Df.shape[0]}')"
   ]
  },
  {
   "cell_type": "code",
   "execution_count": null,
   "metadata": {},
   "outputs": [],
   "source": [
    "Df.hist(figsize=(20,20))\n",
    "plt.show()"
   ]
  },
  {
   "cell_type": "code",
   "execution_count": null,
   "metadata": {},
   "outputs": [],
   "source": [
    "# calculate the correlation matrix\n",
    "corr = df.corr()\n",
    "\n",
    "# plot the heatmap\n",
    "plt.figure(figsize=(21, 21))\n",
    "plt.title('Correlations Heatmap',\n",
    "          fontdict={'fontsize': 34,\n",
    "                    'color':  'orange',\n",
    "                    'fontweight':  'bold'},\n",
    "          alpha=.8)\n",
    "\n",
    "sns.heatmap(corr.abs(),\n",
    "            cmap=\"Oranges\", alpha=.5,\n",
    "            xticklabels=corr.columns,\n",
    "            yticklabels=corr.columns\n",
    "            )\n",
    "\n",
    "plt.show()"
   ]
  },
  {
   "cell_type": "code",
   "execution_count": null,
   "metadata": {},
   "outputs": [],
   "source": [
    "#building target variable\n",
    "# creating column (value = 1 for rows where `shares` is at least 1500)\n",
    "df['Shares_binary'] = np.where(df['shares']>=1500, '1', '0').astype('int64')\n",
    "df.Shares_binary.dtype"
   ]
  },
  {
   "cell_type": "code",
   "execution_count": null,
   "metadata": {},
   "outputs": [],
   "source": [
    "# viewing the first 10 rows\n",
    "df[['shares', 'Shares_binary']].head(10)\n"
   ]
  },
  {
   "cell_type": "code",
   "execution_count": null,
   "metadata": {},
   "outputs": [],
   "source": [
    "# saving the current - state dataframe to a csv file\n",
    "df.to_csv('/Users/jigisharathod/Desktop/OnlineNewsPopularity_1.csv', header=True, index=True)"
   ]
  },
  {
   "cell_type": "code",
   "execution_count": null,
   "metadata": {},
   "outputs": [],
   "source": [
    "# setting to view all columns\n",
    "pd.set_option('display.max_columns', 999)\n",
    "\n",
    "# opening saved data from .csv file\n",
    "df_2 = pd.read_csv('/Users/jigisharathod/Desktop/OnlineNewsPopularity_1.csv',\n",
    "                   index_col=0)\n",
    "\n",
    "display(df_2.shape)\n",
    "df_2.head()"
   ]
  },
  {
   "cell_type": "code",
   "execution_count": null,
   "metadata": {},
   "outputs": [],
   "source": [
    "#Helping Index for referrings\n",
    "for i in range(len(Df.columns)):\n",
    "    print(f'{i} -> {Df.columns[i]}')"
   ]
  },
  {
   "cell_type": "code",
   "execution_count": null,
   "metadata": {},
   "outputs": [],
   "source": [
    "#EDA\n",
    "a,b = Df['shares'].mean(),Df['shares'].median()"
   ]
  },
  {
   "cell_type": "code",
   "execution_count": null,
   "metadata": {},
   "outputs": [],
   "source": [
    "print(f'Mean article shares = {a}')\n",
    "print(f'Median article share = {b}')"
   ]
  },
  {
   "cell_type": "code",
   "execution_count": null,
   "metadata": {},
   "outputs": [],
   "source": [
    "Wd = Df.columns.values[30:37]\n",
    "Wd"
   ]
  },
  {
   "cell_type": "code",
   "execution_count": null,
   "metadata": {},
   "outputs": [],
   "source": [
    "Unpop=Df[Df['shares']<a]\n",
    "Pop=Df[Df['shares']>=a]\n",
    "Unpop_day = Unpop[Wd].sum().values\n",
    "Pop_day = Pop[Wd].sum().values\n",
    "\n",
    "fig = plt.figure(figsize = (13,5))\n",
    "plt.title(\"Count of popular/unpopular news over different day of week (Mean)\", fontsize = 16)\n",
    "plt.bar(np.arange(len(Wd)), Pop_day, width = 0.3, align=\"center\", color = 'black', \\\n",
    "          label = \"popular\")\n",
    "plt.bar(np.arange(len(Wd)) - 0.3, Unpop_day, width = 0.3, align = \"center\", color = 'grey', \\\n",
    "          label = \"unpopular\")\n",
    "plt.xticks(np.arange(len(Wd)), Wd)\n",
    "plt.ylabel(\"Count\", fontsize = 12)\n",
    "plt.xlabel(\"Days of week\", fontsize = 12)\n",
    "    \n",
    "plt.legend(loc = 'upper right')\n",
    "plt.tight_layout()\n",
    "plt.show()"
   ]
  },
  {
   "cell_type": "code",
   "execution_count": null,
   "metadata": {},
   "outputs": [],
   "source": [
    "Unpop2=Df[Df['shares']<b]\n",
    "Pop2=Df[Df['shares']>=b]\n",
    "Unpop_day2 = Unpop2[Wd].sum().values\n",
    "Pop_day2 = Pop2[Wd].sum().values\n",
    "fig = plt.figure(figsize = (13,5))\n",
    "plt.title(\"Count of popular/unpopular news over different day of week (Median)\", fontsize = 16)\n",
    "plt.bar(np.arange(len(Wd)), Pop_day2, width = 0.3, align=\"center\", color = 'black', \\\n",
    "          label = \"popular\")\n",
    "plt.bar(np.arange(len(Wd)) - 0.3, Unpop_day2, width = 0.3, align = \"center\", color = 'grey', \\\n",
    "          label = \"unpopular\")\n",
    "plt.xticks(np.arange(len(Wd)), Wd)\n",
    "plt.ylabel(\"Count\", fontsize = 12)\n",
    "plt.xlabel(\"Days of week\", fontsize = 12)\n",
    "    \n",
    "plt.legend(loc = 'upper right')\n",
    "plt.tight_layout()\n",
    "plt.show()"
   ]
  },
  {
   "cell_type": "code",
   "execution_count": null,
   "metadata": {},
   "outputs": [],
   "source": [
    "Dc = Df.columns.values[12:18]"
   ]
  },
  {
   "cell_type": "code",
   "execution_count": null,
   "metadata": {},
   "outputs": [],
   "source": [
    "Unpop3=Df[Df['shares']<a]\n",
    "Pop3=Df[Df['shares']>=a]\n",
    "Unpop_day3 = Unpop3[Dc].sum().values\n",
    "Pop_day3 = Pop3[Dc].sum().values\n",
    "fig = plt.figure(figsize = (13,5))\n",
    "plt.title(\"Count of popular/unpopular news over different data channel (Mean)\", fontsize = 16)\n",
    "plt.bar(np.arange(len(Dc)), Pop_day3, width = 0.3, align=\"center\", color = 'black', \\\n",
    "          label = \"popular\")\n",
    "plt.bar(np.arange(len(Dc)) - 0.3, Unpop_day3, width = 0.3, align = \"center\", color = 'grey', \\\n",
    "          label = \"unpopular\")\n",
    "plt.xticks(np.arange(len(Dc)), Dc)\n",
    "plt.ylabel(\"Count\", fontsize = 12)\n",
    "plt.xlabel(\"Days of week\", fontsize = 12)\n",
    "    \n",
    "plt.legend(loc = 'upper right')\n",
    "plt.tight_layout()\n",
    "plt.show()"
   ]
  },
  {
   "cell_type": "code",
   "execution_count": null,
   "metadata": {},
   "outputs": [],
   "source": [
    "\n",
    "# viewing most and least shared articles\n",
    "pd.set_option('min_rows', 20)\n",
    "df_2.shares.sort_values(ascending=False)"
   ]
  },
  {
   "cell_type": "code",
   "execution_count": null,
   "metadata": {},
   "outputs": [],
   "source": [
    "# viewing column box plots\n",
    "plt.figure(figsize=(21, 13))\n",
    "plt.boxplot([df_2[col] for col in df_2.iloc[:, 0:60].columns])\n",
    "\n",
    "plt.title(\"Distributions of Dataset Columns\",\n",
    "          fontdict={'fontsize': 34})\n",
    "plt.xlabel('column indexes', fontsize=25)\n",
    "plt.ylabel('values', fontsize=25)\n",
    "\n",
    "\n",
    "plt.show()"
   ]
  },
  {
   "cell_type": "code",
   "execution_count": null,
   "metadata": {},
   "outputs": [],
   "source": [
    "# spliting the dataframe outcome and predictor variables\n",
    "X = df_2.drop(['shares', 'Shares_binary'], axis=1)  # features\n",
    "y = df_2['Shares_binary']  # target\n",
    "\n",
    "# splitting the dataset into 75/25 training and test sets\n",
    "X_train, X_test, y_train, y_test = train_test_split(X,\n",
    "                                                    y,\n",
    "                                                    test_size=0.25,\n",
    "                                                    random_state=0\n",
    "                                                    )"
   ]
  },
  {
   "cell_type": "code",
   "execution_count": null,
   "metadata": {},
   "outputs": [],
   "source": [
    "warnings.filterwarnings(\"ignore\")"
   ]
  },
  {
   "cell_type": "code",
   "execution_count": null,
   "metadata": {},
   "outputs": [],
   "source": [
    "visualizer = roc_auc(LogisticRegression(), X, y)"
   ]
  },
  {
   "cell_type": "code",
   "execution_count": null,
   "metadata": {},
   "outputs": [],
   "source": [
    "# instantiate and fit a Decision Tree classifier\n",
    "tree_clf = DecisionTreeClassifier(criterion='gini',\n",
    "                                  max_depth=5,\n",
    "                                  random_state=0)\n",
    "tree_clf.fit(X_train, y_train)"
   ]
  },
  {
   "cell_type": "code",
   "execution_count": 7,
   "metadata": {},
   "outputs": [
    {
     "ename": "NameError",
     "evalue": "name 'tree_clf' is not defined",
     "output_type": "error",
     "traceback": [
      "\u001b[0;31m---------------------------------------------------------------------------\u001b[0m",
      "\u001b[0;31mNameError\u001b[0m                                 Traceback (most recent call last)",
      "\u001b[0;32m<ipython-input-7-b457f91b2dab>\u001b[0m in \u001b[0;36m<module>\u001b[0;34m\u001b[0m\n\u001b[1;32m      1\u001b[0m \u001b[0;31m# viewing test set predictions\u001b[0m\u001b[0;34m\u001b[0m\u001b[0;34m\u001b[0m\u001b[0;34m\u001b[0m\u001b[0m\n\u001b[0;32m----> 2\u001b[0;31m \u001b[0mpred\u001b[0m \u001b[0;34m=\u001b[0m \u001b[0mtree_clf\u001b[0m\u001b[0;34m.\u001b[0m\u001b[0mpredict\u001b[0m\u001b[0;34m(\u001b[0m\u001b[0mX_test\u001b[0m\u001b[0;34m)\u001b[0m\u001b[0;34m\u001b[0m\u001b[0;34m\u001b[0m\u001b[0m\n\u001b[0m\u001b[1;32m      3\u001b[0m \u001b[0;34m\u001b[0m\u001b[0m\n\u001b[1;32m      4\u001b[0m \u001b[0;31m# viewing confusion matrix and classification report\u001b[0m\u001b[0;34m\u001b[0m\u001b[0;34m\u001b[0m\u001b[0;34m\u001b[0m\u001b[0m\n\u001b[1;32m      5\u001b[0m \u001b[0mprint\u001b[0m\u001b[0;34m(\u001b[0m\u001b[0;34m\"\\n\"\u001b[0m\u001b[0;34m,\u001b[0m \u001b[0mconfusion_matrix\u001b[0m\u001b[0;34m(\u001b[0m\u001b[0my_test\u001b[0m\u001b[0;34m,\u001b[0m \u001b[0mpred\u001b[0m\u001b[0;34m)\u001b[0m\u001b[0;34m,\u001b[0m \u001b[0;34m\"\\n\"\u001b[0m\u001b[0;34m)\u001b[0m\u001b[0;34m\u001b[0m\u001b[0;34m\u001b[0m\u001b[0m\n",
      "\u001b[0;31mNameError\u001b[0m: name 'tree_clf' is not defined"
     ]
    }
   ],
   "source": [
    "# viewing test set predictions\n",
    "pred = tree_clf.predict(X_test)\n",
    "\n",
    "# viewing confusion matrix and classification report\n",
    "print(\"\\n\", confusion_matrix(y_test, pred), \"\\n\")\n",
    "print(classification_report(y_test, pred))"
   ]
  },
  {
   "cell_type": "code",
   "execution_count": 8,
   "metadata": {},
   "outputs": [
    {
     "ename": "NameError",
     "evalue": "name 'y_test' is not defined",
     "output_type": "error",
     "traceback": [
      "\u001b[0;31m---------------------------------------------------------------------------\u001b[0m",
      "\u001b[0;31mNameError\u001b[0m                                 Traceback (most recent call last)",
      "\u001b[0;32m<ipython-input-8-cd682778d22e>\u001b[0m in \u001b[0;36m<module>\u001b[0;34m\u001b[0m\n\u001b[1;32m      1\u001b[0m \u001b[0;31m# plotting confusion matrix heatmap\u001b[0m\u001b[0;34m\u001b[0m\u001b[0;34m\u001b[0m\u001b[0;34m\u001b[0m\u001b[0m\n\u001b[0;32m----> 2\u001b[0;31m \u001b[0mcm\u001b[0m \u001b[0;34m=\u001b[0m \u001b[0mconfusion_matrix\u001b[0m\u001b[0;34m(\u001b[0m\u001b[0my_test\u001b[0m\u001b[0;34m,\u001b[0m \u001b[0mpred\u001b[0m\u001b[0;34m)\u001b[0m\u001b[0;34m\u001b[0m\u001b[0;34m\u001b[0m\u001b[0m\n\u001b[0m\u001b[1;32m      3\u001b[0m \u001b[0;34m\u001b[0m\u001b[0m\n\u001b[1;32m      4\u001b[0m \u001b[0msns\u001b[0m\u001b[0;34m.\u001b[0m\u001b[0mheatmap\u001b[0m\u001b[0;34m(\u001b[0m\u001b[0mcm\u001b[0m\u001b[0;34m,\u001b[0m \u001b[0mcmap\u001b[0m\u001b[0;34m=\u001b[0m\u001b[0msns\u001b[0m\u001b[0;34m.\u001b[0m\u001b[0mcolor_palette\u001b[0m\u001b[0;34m(\u001b[0m\u001b[0;34m'afmhot'\u001b[0m\u001b[0;34m)\u001b[0m\u001b[0;34m,\u001b[0m \u001b[0mannot\u001b[0m\u001b[0;34m=\u001b[0m\u001b[0;32mTrue\u001b[0m\u001b[0;34m,\u001b[0m \u001b[0mfmt\u001b[0m\u001b[0;34m=\u001b[0m\u001b[0;34m'0.4g'\u001b[0m\u001b[0;34m)\u001b[0m\u001b[0;34m\u001b[0m\u001b[0;34m\u001b[0m\u001b[0m\n\u001b[1;32m      5\u001b[0m \u001b[0;34m\u001b[0m\u001b[0m\n",
      "\u001b[0;31mNameError\u001b[0m: name 'y_test' is not defined"
     ]
    }
   ],
   "source": [
    "# plotting confusion matrix heatmap\n",
    "cm = confusion_matrix(y_test, pred)\n",
    "\n",
    "sns.heatmap(cm, cmap=sns.color_palette('afmhot'), annot=True, fmt='0.4g')\n",
    "\n",
    "plt.autoscale()\n",
    "\n",
    "plt.xlabel(\"Predicted\")\n",
    "plt.ylabel(\"Actual\")\n",
    "plt.title(\"Confusion Matrix\", fontdict={'fontsize': 21})\n",
    "\n",
    "plt.savefig('images/dtree-cm-heatmap.png', transparent=False)\n",
    "\n",
    "plt.show()"
   ]
  },
  {
   "cell_type": "code",
   "execution_count": 9,
   "metadata": {},
   "outputs": [
    {
     "ename": "NameError",
     "evalue": "name 'tree_clf' is not defined",
     "output_type": "error",
     "traceback": [
      "\u001b[0;31m---------------------------------------------------------------------------\u001b[0m",
      "\u001b[0;31mNameError\u001b[0m                                 Traceback (most recent call last)",
      "\u001b[0;32m<ipython-input-9-124cd47807cd>\u001b[0m in \u001b[0;36m<module>\u001b[0;34m\u001b[0m\n\u001b[1;32m      1\u001b[0m \u001b[0;31m# checking feature importances of the trained model\u001b[0m\u001b[0;34m\u001b[0m\u001b[0;34m\u001b[0m\u001b[0;34m\u001b[0m\u001b[0m\n\u001b[0;32m----> 2\u001b[0;31m \u001b[0mtree_clf\u001b[0m\u001b[0;34m.\u001b[0m\u001b[0mfeature_importances_\u001b[0m\u001b[0;34m\u001b[0m\u001b[0;34m\u001b[0m\u001b[0m\n\u001b[0m",
      "\u001b[0;31mNameError\u001b[0m: name 'tree_clf' is not defined"
     ]
    }
   ],
   "source": [
    "# checking feature importances of the trained model\n",
    "tree_clf.feature_importances_"
   ]
  },
  {
   "cell_type": "code",
   "execution_count": 10,
   "metadata": {},
   "outputs": [
    {
     "ename": "NameError",
     "evalue": "name 'tree_clf' is not defined",
     "output_type": "error",
     "traceback": [
      "\u001b[0;31m---------------------------------------------------------------------------\u001b[0m",
      "\u001b[0;31mNameError\u001b[0m                                 Traceback (most recent call last)",
      "\u001b[0;32m<ipython-input-10-a17056324b47>\u001b[0m in \u001b[0;36m<module>\u001b[0;34m\u001b[0m\n\u001b[1;32m     12\u001b[0m \u001b[0;34m\u001b[0m\u001b[0m\n\u001b[1;32m     13\u001b[0m \u001b[0;34m\u001b[0m\u001b[0m\n\u001b[0;32m---> 14\u001b[0;31m \u001b[0mplot_feature_importances\u001b[0m\u001b[0;34m(\u001b[0m\u001b[0mtree_clf\u001b[0m\u001b[0;34m,\u001b[0m \u001b[0;34m\"Decision Tree Feature Importances\"\u001b[0m\u001b[0;34m)\u001b[0m\u001b[0;34m\u001b[0m\u001b[0;34m\u001b[0m\u001b[0m\n\u001b[0m",
      "\u001b[0;31mNameError\u001b[0m: name 'tree_clf' is not defined"
     ]
    }
   ],
   "source": [
    "# visualizing Decision Tree feature importances\n",
    "def plot_feature_importances(model, heading):\n",
    "    n_features = X_train.shape[1]\n",
    "    plt.figure(figsize=(8, 21))\n",
    "    plt.title(heading, fontdict={'fontsize': 21})\n",
    "    plt.barh(range(n_features),\n",
    "             model.feature_importances_,\n",
    "             align='center')\n",
    "    plt.yticks(np.arange(n_features), X_train.columns.values)\n",
    "    plt.xlabel('Feature Importance')\n",
    "    plt.ylabel('Feature')\n",
    "\n",
    "\n",
    "plot_feature_importances(tree_clf, \"Decision Tree Feature Importances\")"
   ]
  },
  {
   "cell_type": "code",
   "execution_count": 11,
   "metadata": {},
   "outputs": [
    {
     "ename": "NameError",
     "evalue": "name 'X_train' is not defined",
     "output_type": "error",
     "traceback": [
      "\u001b[0;31m---------------------------------------------------------------------------\u001b[0m",
      "\u001b[0;31mNameError\u001b[0m                                 Traceback (most recent call last)",
      "\u001b[0;32m<ipython-input-11-056ea553db63>\u001b[0m in \u001b[0;36m<module>\u001b[0;34m\u001b[0m\n\u001b[1;32m     19\u001b[0m \u001b[0;34m\u001b[0m\u001b[0m\n\u001b[1;32m     20\u001b[0m \u001b[0;31m# fitting the training data\u001b[0m\u001b[0;34m\u001b[0m\u001b[0;34m\u001b[0m\u001b[0;34m\u001b[0m\u001b[0m\n\u001b[0;32m---> 21\u001b[0;31m \u001b[0mrf_gridsearch\u001b[0m\u001b[0;34m.\u001b[0m\u001b[0mfit\u001b[0m\u001b[0;34m(\u001b[0m\u001b[0mX_train\u001b[0m\u001b[0;34m,\u001b[0m \u001b[0my_train\u001b[0m\u001b[0;34m)\u001b[0m\u001b[0;34m\u001b[0m\u001b[0;34m\u001b[0m\u001b[0m\n\u001b[0m\u001b[1;32m     22\u001b[0m \u001b[0;34m\u001b[0m\u001b[0m\n\u001b[1;32m     23\u001b[0m \u001b[0;31m# viewing accuracy on the test set\u001b[0m\u001b[0;34m\u001b[0m\u001b[0;34m\u001b[0m\u001b[0;34m\u001b[0m\u001b[0m\n",
      "\u001b[0;31mNameError\u001b[0m: name 'X_train' is not defined"
     ]
    }
   ],
   "source": [
    "# building a Random Forest classifier pipeline\n",
    "rf_pipeline = Pipeline([('ss', StandardScaler()),\n",
    "                        ('RF', RandomForestClassifier(random_state=0))])\n",
    "\n",
    "# defining the grid\n",
    "grid = [{'RF__max_depth': [2, 4, 6],\n",
    "         'RF__min_samples_split': [2, 5, 10],\n",
    "         'RF__min_samples_leaf': [1, 3, 5]}]\n",
    "\n",
    "# defining a grid search with the estimator\n",
    "# using `refit`, to update the model with optimized hyperparameters\n",
    "rf_gridsearch = GridSearchCV(estimator=rf_pipeline,\n",
    "                             param_grid=grid,\n",
    "                             scoring='accuracy',\n",
    "                             cv=5,\n",
    "                             refit=True,\n",
    "                             n_jobs=-1,\n",
    "                             verbose=1)\n",
    "\n",
    "# fitting the training data\n",
    "rf_gridsearch.fit(X_train, y_train)\n",
    "\n",
    "# viewing accuracy on the test set\n",
    "pred = rf_gridsearch.predict(X_test)\n",
    "print(f\"Optimal Parameters: {rf_gridsearch.best_params_}\")\n",
    "print(\"\")\n",
    "print(\"rf_gridsearch score: \",\n",
    "      rf_gridsearch.score(X_test, y_test).round(2))\n",
    "print(\"\")\n",
    "print(classification_report(y_test, pred))"
   ]
  },
  {
   "cell_type": "code",
   "execution_count": 12,
   "metadata": {},
   "outputs": [
    {
     "ename": "AttributeError",
     "evalue": "'GridSearchCV' object has no attribute 'best_estimator_'",
     "output_type": "error",
     "traceback": [
      "\u001b[0;31m---------------------------------------------------------------------------\u001b[0m",
      "\u001b[0;31mAttributeError\u001b[0m                            Traceback (most recent call last)",
      "\u001b[0;32m<ipython-input-12-17fedd9d3245>\u001b[0m in \u001b[0;36m<module>\u001b[0;34m\u001b[0m\n\u001b[1;32m      1\u001b[0m \u001b[0;31m# instantiate a variable for the optimized Random Forest model\u001b[0m\u001b[0;34m\u001b[0m\u001b[0;34m\u001b[0m\u001b[0;34m\u001b[0m\u001b[0m\n\u001b[0;32m----> 2\u001b[0;31m \u001b[0mrf_model\u001b[0m \u001b[0;34m=\u001b[0m \u001b[0mrf_gridsearch\u001b[0m\u001b[0;34m.\u001b[0m\u001b[0mbest_estimator_\u001b[0m\u001b[0;34m.\u001b[0m\u001b[0msteps\u001b[0m\u001b[0;34m[\u001b[0m\u001b[0;36m1\u001b[0m\u001b[0;34m]\u001b[0m\u001b[0;34m[\u001b[0m\u001b[0;36m1\u001b[0m\u001b[0;34m]\u001b[0m\u001b[0;34m\u001b[0m\u001b[0;34m\u001b[0m\u001b[0m\n\u001b[0m\u001b[1;32m      3\u001b[0m \u001b[0;34m\u001b[0m\u001b[0m\n\u001b[1;32m      4\u001b[0m \u001b[0;31m# viewing the full model and hyperperameters\u001b[0m\u001b[0;34m\u001b[0m\u001b[0;34m\u001b[0m\u001b[0;34m\u001b[0m\u001b[0m\n\u001b[1;32m      5\u001b[0m \u001b[0mrf_model\u001b[0m\u001b[0;34m\u001b[0m\u001b[0;34m\u001b[0m\u001b[0m\n",
      "\u001b[0;31mAttributeError\u001b[0m: 'GridSearchCV' object has no attribute 'best_estimator_'"
     ]
    }
   ],
   "source": [
    "# instantiate a variable for the optimized Random Forest model\n",
    "rf_model = rf_gridsearch.best_estimator_.steps[1][1]\n",
    "\n",
    "# viewing the full model and hyperperameters\n",
    "rf_model\n"
   ]
  },
  {
   "cell_type": "code",
   "execution_count": null,
   "metadata": {},
   "outputs": [],
   "source": [
    "\n",
    "# visualizing Random Forest feature importances\n",
    "plot_feature_importances(rf_model, \"Random Forest Feature Importances\")"
   ]
  }
 ],
 "metadata": {
  "kernelspec": {
   "display_name": "Python 3",
   "language": "python",
   "name": "python3"
  },
  "language_info": {
   "codemirror_mode": {
    "name": "ipython",
    "version": 3
   },
   "file_extension": ".py",
   "mimetype": "text/x-python",
   "name": "python",
   "nbconvert_exporter": "python",
   "pygments_lexer": "ipython3",
   "version": "3.7.4"
  }
 },
 "nbformat": 4,
 "nbformat_minor": 2
}
